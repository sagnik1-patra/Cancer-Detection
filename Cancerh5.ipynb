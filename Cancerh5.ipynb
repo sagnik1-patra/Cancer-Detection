{
 "cells": [
  {
   "cell_type": "code",
   "execution_count": 1,
   "id": "01a272d4-5bc3-4587-b992-040e20153eb1",
   "metadata": {},
   "outputs": [
    {
     "name": "stderr",
     "output_type": "stream",
     "text": [
      "C:\\Users\\sagni\\AppData\\Local\\Programs\\Python\\Python311\\Lib\\site-packages\\keras\\src\\layers\\core\\embedding.py:97: UserWarning: Argument `input_length` is deprecated. Just remove it.\n",
      "  warnings.warn(\n"
     ]
    },
    {
     "name": "stdout",
     "output_type": "stream",
     "text": [
      "Epoch 1/5\n",
      "\u001b[1m38/38\u001b[0m \u001b[32m━━━━━━━━━━━━━━━━━━━━\u001b[0m\u001b[37m\u001b[0m \u001b[1m15s\u001b[0m 232ms/step - accuracy: 0.2599 - loss: 2.0558 - val_accuracy: 0.3120 - val_loss: 1.8586\n",
      "Epoch 2/5\n",
      "\u001b[1m38/38\u001b[0m \u001b[32m━━━━━━━━━━━━━━━━━━━━\u001b[0m\u001b[37m\u001b[0m \u001b[1m8s\u001b[0m 204ms/step - accuracy: 0.3449 - loss: 1.7397 - val_accuracy: 0.3985 - val_loss: 1.6135\n",
      "Epoch 3/5\n",
      "\u001b[1m38/38\u001b[0m \u001b[32m━━━━━━━━━━━━━━━━━━━━\u001b[0m\u001b[37m\u001b[0m \u001b[1m8s\u001b[0m 206ms/step - accuracy: 0.5287 - loss: 1.2914 - val_accuracy: 0.5000 - val_loss: 1.3483\n",
      "Epoch 4/5\n",
      "\u001b[1m38/38\u001b[0m \u001b[32m━━━━━━━━━━━━━━━━━━━━\u001b[0m\u001b[37m\u001b[0m \u001b[1m8s\u001b[0m 200ms/step - accuracy: 0.6571 - loss: 0.9774 - val_accuracy: 0.5263 - val_loss: 1.2716\n",
      "Epoch 5/5\n",
      "\u001b[1m38/38\u001b[0m \u001b[32m━━━━━━━━━━━━━━━━━━━━\u001b[0m\u001b[37m\u001b[0m \u001b[1m8s\u001b[0m 200ms/step - accuracy: 0.7429 - loss: 0.7515 - val_accuracy: 0.5301 - val_loss: 1.2916\n",
      "\u001b[1m21/21\u001b[0m \u001b[32m━━━━━━━━━━━━━━━━━━━━\u001b[0m\u001b[37m\u001b[0m \u001b[1m1s\u001b[0m 41ms/step - accuracy: 0.5779 - loss: 1.2583\n"
     ]
    },
    {
     "name": "stderr",
     "output_type": "stream",
     "text": [
      "WARNING:absl:You are saving your model as an HDF5 file via `model.save()` or `keras.saving.save_model(model)`. This file format is considered legacy. We recommend using instead the native Keras format, e.g. `model.save('my_model.keras')` or `keras.saving.save_model(model, 'my_model.keras')`. \n"
     ]
    },
    {
     "name": "stdout",
     "output_type": "stream",
     "text": [
      "\n",
      "✅ Test Accuracy: 0.5714\n",
      "✅ Model saved to: C:\\Users\\sagni\\Downloads\\Cancer Detection\\cancer_model.h5\n"
     ]
    }
   ],
   "source": [
    "# 📦 Install required libraries (uncomment if running in a new environment)\n",
    "# !pip install pandas scikit-learn tensorflow\n",
    "\n",
    "import pandas as pd\n",
    "import numpy as np\n",
    "from tensorflow.keras.preprocessing.text import Tokenizer\n",
    "from tensorflow.keras.utils import to_categorical\n",
    "from tensorflow.keras.models import Model\n",
    "from tensorflow.keras.layers import Input, Embedding, Dense, LSTM, Concatenate\n",
    "from tensorflow.keras.preprocessing.sequence import pad_sequences\n",
    "from sklearn.preprocessing import LabelEncoder\n",
    "from sklearn.model_selection import train_test_split\n",
    "\n",
    "# === 📂 Load data ===\n",
    "variants_path = r\"C:\\Users\\sagni\\Downloads\\msk-redefining-cancer-treatment\\training_variants\"\n",
    "text_path = r\"C:\\Users\\sagni\\Downloads\\msk-redefining-cancer-treatment\\training_text\"\n",
    "\n",
    "variants_df = pd.read_csv(variants_path)\n",
    "text_df = pd.read_csv(text_path, sep=\"\\|\\|\", engine=\"python\", names=[\"ID\", \"Text\"], skiprows=1)\n",
    "\n",
    "# === 🔗 Merge data ===\n",
    "data = pd.merge(variants_df, text_df, on=\"ID\")\n",
    "\n",
    "# === 🧹 Clean text column (fix AttributeError due to NaN) ===\n",
    "data[\"Text\"] = data[\"Text\"].fillna(\"unknown\")\n",
    "\n",
    "# === 🧪 Prepare categorical features ===\n",
    "gene_encoder = LabelEncoder()\n",
    "variation_encoder = LabelEncoder()\n",
    "data[\"Gene_enc\"] = gene_encoder.fit_transform(data[\"Gene\"])\n",
    "data[\"Variation_enc\"] = variation_encoder.fit_transform(data[\"Variation\"])\n",
    "\n",
    "# === 🧠 Prepare text features ===\n",
    "tokenizer = Tokenizer(num_words=20000)\n",
    "tokenizer.fit_on_texts(data[\"Text\"])\n",
    "X_text = tokenizer.texts_to_sequences(data[\"Text\"])\n",
    "X_text = pad_sequences(X_text, maxlen=500)\n",
    "\n",
    "# === 🎯 Labels (1–9), one-hot encode\n",
    "y = to_categorical(data[\"Class\"] - 1, num_classes=9)\n",
    "\n",
    "# === ✂️ Train/test split ===\n",
    "X_train_text, X_test_text, X_train_gene, X_test_gene, X_train_var, X_test_var, y_train, y_test = train_test_split(\n",
    "    X_text, data[\"Gene_enc\"], data[\"Variation_enc\"], y, test_size=0.2, random_state=42\n",
    ")\n",
    "\n",
    "# === 🧩 Model ===\n",
    "# Inputs\n",
    "input_text = Input(shape=(500,))\n",
    "input_gene = Input(shape=(1,))\n",
    "input_var = Input(shape=(1,))\n",
    "\n",
    "# Embeddings\n",
    "text_emb = Embedding(input_dim=20000, output_dim=128, input_length=500)(input_text)\n",
    "x_text = LSTM(64)(text_emb)\n",
    "\n",
    "gene_emb = Embedding(input_dim=len(gene_encoder.classes_), output_dim=8)(input_gene)\n",
    "x_gene = LSTM(8)(gene_emb)\n",
    "\n",
    "var_emb = Embedding(input_dim=len(variation_encoder.classes_), output_dim=8)(input_var)\n",
    "x_var = LSTM(8)(var_emb)\n",
    "\n",
    "# Combine\n",
    "merged = Concatenate()([x_text, x_gene, x_var])\n",
    "output = Dense(64, activation='relu')(merged)\n",
    "output = Dense(9, activation='softmax')(output)\n",
    "\n",
    "model = Model(inputs=[input_text, input_gene, input_var], outputs=output)\n",
    "model.compile(optimizer=\"adam\", loss=\"categorical_crossentropy\", metrics=[\"accuracy\"])\n",
    "\n",
    "# === 🏋️‍♂️ Train ===\n",
    "model.fit(\n",
    "    [X_train_text, np.expand_dims(X_train_gene, -1), np.expand_dims(X_train_var, -1)],\n",
    "    y_train,\n",
    "    epochs=5,\n",
    "    batch_size=64,\n",
    "    validation_split=0.1\n",
    ")\n",
    "\n",
    "# === ✅ Evaluate ===\n",
    "loss, acc = model.evaluate(\n",
    "    [X_test_text, np.expand_dims(X_test_gene, -1), np.expand_dims(X_test_var, -1)],\n",
    "    y_test\n",
    ")\n",
    "print(f\"\\n✅ Test Accuracy: {acc:.4f}\")\n",
    "\n",
    "# === 💾 Save the model ===\n",
    "model.save(r\"C:\\Users\\sagni\\Downloads\\Cancer Detection\\cancer_model.h5\")\n",
    "print(\"✅ Model saved to: C:\\\\Users\\\\sagni\\\\Downloads\\\\Cancer Detection\\\\cancer_model.h5\")\n"
   ]
  },
  {
   "cell_type": "code",
   "execution_count": null,
   "id": "ad115cca-99b7-461b-abef-1deb8eee6f3a",
   "metadata": {},
   "outputs": [],
   "source": []
  }
 ],
 "metadata": {
  "kernelspec": {
   "display_name": "Python 3.11 (moviepy)",
   "language": "python",
   "name": "py311"
  },
  "language_info": {
   "codemirror_mode": {
    "name": "ipython",
    "version": 3
   },
   "file_extension": ".py",
   "mimetype": "text/x-python",
   "name": "python",
   "nbconvert_exporter": "python",
   "pygments_lexer": "ipython3",
   "version": "3.11.9"
  }
 },
 "nbformat": 4,
 "nbformat_minor": 5
}
