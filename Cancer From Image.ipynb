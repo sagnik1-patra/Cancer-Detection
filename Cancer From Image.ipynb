{
 "cells": [
  {
   "cell_type": "code",
   "execution_count": 2,
   "id": "fe3a7074-e994-4c28-83a8-4dbcd9c29249",
   "metadata": {},
   "outputs": [
    {
     "name": "stderr",
     "output_type": "stream",
     "text": [
      "WARNING:absl:Compiled the loaded model, but the compiled metrics have yet to be built. `model.compile_metrics` will be empty until you train or evaluate the model.\n",
      "WARNING:easyocr.easyocr:Neither CUDA nor MPS are available - defaulting to CPU. Note: This module is much faster with a GPU.\n"
     ]
    },
    {
     "name": "stdout",
     "output_type": "stream",
     "text": [
      "📝 Extracted Text: \n",
      "\u001b[1m1/1\u001b[0m \u001b[32m━━━━━━━━━━━━━━━━━━━━\u001b[0m\u001b[37m\u001b[0m \u001b[1m1s\u001b[0m 816ms/step\n",
      "✅ Predicted Cancer Class: 5\n"
     ]
    }
   ],
   "source": [
    "import easyocr\n",
    "import numpy as np\n",
    "import pandas as pd\n",
    "from tensorflow.keras.models import load_model\n",
    "from tensorflow.keras.preprocessing.text import Tokenizer\n",
    "from tensorflow.keras.preprocessing.sequence import pad_sequences\n",
    "from sklearn.preprocessing import LabelEncoder\n",
    "import cv2\n",
    "\n",
    "# === 🧠 Load model ===\n",
    "model = load_model(r\"C:\\Users\\sagni\\Downloads\\Cancer Detection\\cancer_model.h5\")\n",
    "model.compile(optimizer=\"adam\", loss=\"categorical_crossentropy\", metrics=[\"accuracy\"])\n",
    "\n",
    "# === 🧠 Load training data to recreate tokenizer and encoders ===\n",
    "variants_path = r\"C:\\Users\\sagni\\Downloads\\msk-redefining-cancer-treatment\\training_variants\"\n",
    "text_path = r\"C:\\Users\\sagni\\Downloads\\msk-redefining-cancer-treatment\\training_text\"\n",
    "\n",
    "variants_df = pd.read_csv(variants_path)\n",
    "text_df = pd.read_csv(text_path, sep=\"\\|\\|\", engine=\"python\", names=[\"ID\", \"Text\"], skiprows=1)\n",
    "data = pd.merge(variants_df, text_df, on=\"ID\")\n",
    "data[\"Text\"] = data[\"Text\"].fillna(\"unknown\")\n",
    "\n",
    "tokenizer = Tokenizer(num_words=20000)\n",
    "tokenizer.fit_on_texts(data[\"Text\"])\n",
    "\n",
    "gene_encoder = LabelEncoder()\n",
    "gene_encoder.fit(data[\"Gene\"])\n",
    "\n",
    "variation_encoder = LabelEncoder()\n",
    "variation_encoder.fit(data[\"Variation\"])\n",
    "\n",
    "# === 🧠 OCR + Prediction ===\n",
    "def extract_text_from_image(image_path):\n",
    "    reader = easyocr.Reader(['en'])\n",
    "    result = reader.readtext(image_path, detail=0)\n",
    "    full_text = \" \".join(result)\n",
    "    return full_text\n",
    "\n",
    "def predict_from_image(image_path, gene, variation):\n",
    "    # OCR\n",
    "    input_text = extract_text_from_image(image_path)\n",
    "    print(f\"📝 Extracted Text: {input_text}\")\n",
    "\n",
    "    # Tokenize\n",
    "    seq = tokenizer.texts_to_sequences([input_text])\n",
    "    padded_seq = pad_sequences(seq, maxlen=500)\n",
    "\n",
    "    # Gene\n",
    "    if gene not in gene_encoder.classes_:\n",
    "        print(f\"❌ Unknown gene: {gene}\")\n",
    "        return\n",
    "    gene_encoded = gene_encoder.transform([gene])\n",
    "    gene_encoded = np.expand_dims(gene_encoded, -1)\n",
    "\n",
    "    # Variation\n",
    "    if variation not in variation_encoder.classes_:\n",
    "        print(f\"❌ Unknown variation: {variation}\")\n",
    "        return\n",
    "    var_encoded = variation_encoder.transform([variation])\n",
    "    var_encoded = np.expand_dims(var_encoded, -1)\n",
    "\n",
    "    # Predict\n",
    "    prediction = model.predict([padded_seq, gene_encoded, var_encoded])\n",
    "    predicted_class = np.argmax(prediction, axis=1)[0] + 1\n",
    "    print(f\"✅ Predicted Cancer Class: {predicted_class}\")\n",
    "    return predicted_class\n",
    "\n",
    "# === Example Usage ===\n",
    "if __name__ == \"__main__\":\n",
    "    image_path = r\"C:\\Users\\sagni\\Downloads\\Cancer Detection\\images.jpg\"\n",
    "    gene = \"EGFR\"\n",
    "    variation = \"L858R\"\n",
    "    predict_from_image(image_path, gene, variation)\n"
   ]
  },
  {
   "cell_type": "code",
   "execution_count": null,
   "id": "21c993c3-4a4c-46b2-893b-b1a07f879644",
   "metadata": {},
   "outputs": [],
   "source": []
  }
 ],
 "metadata": {
  "kernelspec": {
   "display_name": "Python 3.11 (moviepy)",
   "language": "python",
   "name": "py311"
  },
  "language_info": {
   "codemirror_mode": {
    "name": "ipython",
    "version": 3
   },
   "file_extension": ".py",
   "mimetype": "text/x-python",
   "name": "python",
   "nbconvert_exporter": "python",
   "pygments_lexer": "ipython3",
   "version": "3.11.9"
  }
 },
 "nbformat": 4,
 "nbformat_minor": 5
}
