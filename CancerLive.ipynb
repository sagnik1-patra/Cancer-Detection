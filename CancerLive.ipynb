{
 "cells": [
  {
   "cell_type": "code",
   "execution_count": 2,
   "id": "19f547bb-5e5d-4096-bb25-4a55d05c332b",
   "metadata": {},
   "outputs": [
    {
     "name": "stderr",
     "output_type": "stream",
     "text": [
      "WARNING:absl:Compiled the loaded model, but the compiled metrics have yet to be built. `model.compile_metrics` will be empty until you train or evaluate the model.\n"
     ]
    },
    {
     "name": "stdout",
     "output_type": "stream",
     "text": [
      "\u001b[1m1/1\u001b[0m \u001b[32m━━━━━━━━━━━━━━━━━━━━\u001b[0m\u001b[37m\u001b[0m \u001b[1m1s\u001b[0m 562ms/step\n",
      "✅ Predicted Cancer Class: 2\n"
     ]
    }
   ],
   "source": [
    "import numpy as np\n",
    "import pandas as pd\n",
    "from tensorflow.keras.models import load_model\n",
    "from tensorflow.keras.preprocessing.text import Tokenizer\n",
    "from tensorflow.keras.preprocessing.sequence import pad_sequences\n",
    "from sklearn.preprocessing import LabelEncoder\n",
    "\n",
    "# === 📥 Load model ===\n",
    "model = load_model(r\"C:\\Users\\sagni\\Downloads\\Cancer Detection\\cancer_model.h5\")\n",
    "\n",
    "# ✅ Optional: compile to suppress warning\n",
    "model.compile(optimizer=\"adam\", loss=\"categorical_crossentropy\", metrics=[\"accuracy\"])\n",
    "\n",
    "# === 🔃 Load training data to recreate tokenizer and encoders ===\n",
    "variants_path = r\"C:\\Users\\sagni\\Downloads\\msk-redefining-cancer-treatment\\training_variants\"\n",
    "text_path = r\"C:\\Users\\sagni\\Downloads\\msk-redefining-cancer-treatment\\training_text\"\n",
    "\n",
    "# Load and merge\n",
    "variants_df = pd.read_csv(variants_path)\n",
    "text_df = pd.read_csv(text_path, sep=\"\\|\\|\", engine=\"python\", names=[\"ID\", \"Text\"], skiprows=1)\n",
    "data = pd.merge(variants_df, text_df, on=\"ID\")\n",
    "data[\"Text\"] = data[\"Text\"].fillna(\"unknown\")\n",
    "\n",
    "# === 🔁 Recreate tokenizer and encoders ===\n",
    "tokenizer = Tokenizer(num_words=20000)\n",
    "tokenizer.fit_on_texts(data[\"Text\"])\n",
    "\n",
    "gene_encoder = LabelEncoder()\n",
    "gene_encoder.fit(data[\"Gene\"])\n",
    "\n",
    "variation_encoder = LabelEncoder()\n",
    "variation_encoder.fit(data[\"Variation\"])\n",
    "\n",
    "# === 🔍 Prediction function ===\n",
    "def predict_cancer_class(input_text, input_gene, input_variation):\n",
    "    # Text processing\n",
    "    seq = tokenizer.texts_to_sequences([input_text])\n",
    "    padded_seq = pad_sequences(seq, maxlen=500)\n",
    "\n",
    "    # Gene encoding\n",
    "    if input_gene not in gene_encoder.classes_:\n",
    "        print(f\"❌ Unknown gene: {input_gene}\")\n",
    "        return None\n",
    "    gene_encoded = gene_encoder.transform([input_gene])\n",
    "    gene_encoded = np.expand_dims(gene_encoded, -1)\n",
    "\n",
    "    # Variation encoding\n",
    "    if input_variation not in variation_encoder.classes_:\n",
    "        print(f\"❌ Unknown variation: {input_variation}\")\n",
    "        return None\n",
    "    var_encoded = variation_encoder.transform([input_variation])\n",
    "    var_encoded = np.expand_dims(var_encoded, -1)\n",
    "\n",
    "    # Predict\n",
    "    prediction = model.predict([padded_seq, gene_encoded, var_encoded])\n",
    "    predicted_class = np.argmax(prediction, axis=1)[0] + 1  # original labels were 1-9\n",
    "\n",
    "    print(f\"✅ Predicted Cancer Class: {predicted_class}\")\n",
    "    return predicted_class\n",
    "\n",
    "# === 🧪 Example use ===\n",
    "if __name__ == \"__main__\":\n",
    "    dna_text = \"This mutation affects the kinase domain of the EGFR gene.\"\n",
    "    gene = \"EGFR\"\n",
    "    variation = \"L858R\"\n",
    "\n",
    "    predict_cancer_class(dna_text, gene, variation)\n"
   ]
  },
  {
   "cell_type": "code",
   "execution_count": null,
   "id": "1f1d67bb-3e6e-4423-8091-21f1002b0a2f",
   "metadata": {},
   "outputs": [],
   "source": []
  }
 ],
 "metadata": {
  "kernelspec": {
   "display_name": "Python 3.11 (moviepy)",
   "language": "python",
   "name": "py311"
  },
  "language_info": {
   "codemirror_mode": {
    "name": "ipython",
    "version": 3
   },
   "file_extension": ".py",
   "mimetype": "text/x-python",
   "name": "python",
   "nbconvert_exporter": "python",
   "pygments_lexer": "ipython3",
   "version": "3.11.9"
  }
 },
 "nbformat": 4,
 "nbformat_minor": 5
}
